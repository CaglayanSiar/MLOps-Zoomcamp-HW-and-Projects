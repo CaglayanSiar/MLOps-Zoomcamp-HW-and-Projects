{
 "cells": [
  {
   "cell_type": "markdown",
   "id": "6f7776e1",
   "metadata": {},
   "source": [
    "<div align=\"center\">\n",
    "\n",
    "# MLOps Zoomcamp HW1\n",
    "\n",
    "</div>\n"
   ]
  },
  {
   "cell_type": "code",
   "execution_count": 1,
   "id": "dbf1638d",
   "metadata": {},
   "outputs": [
    {
     "name": "stdout",
     "output_type": "stream",
     "text": [
      "Requirement already satisfied: pyarrow in /home/siar/anaconda3/lib/python3.11/site-packages (11.0.0)\n",
      "Requirement already satisfied: numpy>=1.16.6 in /home/siar/anaconda3/lib/python3.11/site-packages (from pyarrow) (1.24.3)\n",
      "Note: you may need to restart the kernel to use updated packages.\n"
     ]
    }
   ],
   "source": [
    "pip install pyarrow"
   ]
  },
  {
   "cell_type": "code",
   "execution_count": 2,
   "id": "2fbeb59e",
   "metadata": {},
   "outputs": [],
   "source": [
    "import pandas as pd \n",
    "import numpy as np "
   ]
  },
  {
   "cell_type": "markdown",
   "id": "cb3d438d",
   "metadata": {},
   "source": [
    "### Data Extraction"
   ]
  },
  {
   "cell_type": "code",
   "execution_count": 3,
   "id": "7ca73120",
   "metadata": {},
   "outputs": [],
   "source": [
    "df = pd.read_parquet('./data/yellow_tripdata_2022-01.parquet')\n",
    "df_val = pd.read_parquet('./data/yellow_tripdata_2022-02.parquet')"
   ]
  },
  {
   "cell_type": "code",
   "execution_count": 4,
   "id": "df4ddfa7",
   "metadata": {},
   "outputs": [
    {
     "data": {
      "text/html": [
       "<div>\n",
       "<style scoped>\n",
       "    .dataframe tbody tr th:only-of-type {\n",
       "        vertical-align: middle;\n",
       "    }\n",
       "\n",
       "    .dataframe tbody tr th {\n",
       "        vertical-align: top;\n",
       "    }\n",
       "\n",
       "    .dataframe thead th {\n",
       "        text-align: right;\n",
       "    }\n",
       "</style>\n",
       "<table border=\"1\" class=\"dataframe\">\n",
       "  <thead>\n",
       "    <tr style=\"text-align: right;\">\n",
       "      <th></th>\n",
       "      <th>VendorID</th>\n",
       "      <th>tpep_pickup_datetime</th>\n",
       "      <th>tpep_dropoff_datetime</th>\n",
       "      <th>passenger_count</th>\n",
       "      <th>trip_distance</th>\n",
       "      <th>RatecodeID</th>\n",
       "      <th>store_and_fwd_flag</th>\n",
       "      <th>PULocationID</th>\n",
       "      <th>DOLocationID</th>\n",
       "      <th>payment_type</th>\n",
       "      <th>fare_amount</th>\n",
       "      <th>extra</th>\n",
       "      <th>mta_tax</th>\n",
       "      <th>tip_amount</th>\n",
       "      <th>tolls_amount</th>\n",
       "      <th>improvement_surcharge</th>\n",
       "      <th>total_amount</th>\n",
       "      <th>congestion_surcharge</th>\n",
       "      <th>airport_fee</th>\n",
       "    </tr>\n",
       "  </thead>\n",
       "  <tbody>\n",
       "    <tr>\n",
       "      <th>0</th>\n",
       "      <td>1</td>\n",
       "      <td>2022-01-01 00:35:40</td>\n",
       "      <td>2022-01-01 00:53:29</td>\n",
       "      <td>2.0</td>\n",
       "      <td>3.80</td>\n",
       "      <td>1.0</td>\n",
       "      <td>N</td>\n",
       "      <td>142</td>\n",
       "      <td>236</td>\n",
       "      <td>1</td>\n",
       "      <td>14.50</td>\n",
       "      <td>3.0</td>\n",
       "      <td>0.5</td>\n",
       "      <td>3.65</td>\n",
       "      <td>0.0</td>\n",
       "      <td>0.3</td>\n",
       "      <td>21.95</td>\n",
       "      <td>2.5</td>\n",
       "      <td>0.0</td>\n",
       "    </tr>\n",
       "    <tr>\n",
       "      <th>1</th>\n",
       "      <td>1</td>\n",
       "      <td>2022-01-01 00:33:43</td>\n",
       "      <td>2022-01-01 00:42:07</td>\n",
       "      <td>1.0</td>\n",
       "      <td>2.10</td>\n",
       "      <td>1.0</td>\n",
       "      <td>N</td>\n",
       "      <td>236</td>\n",
       "      <td>42</td>\n",
       "      <td>1</td>\n",
       "      <td>8.00</td>\n",
       "      <td>0.5</td>\n",
       "      <td>0.5</td>\n",
       "      <td>4.00</td>\n",
       "      <td>0.0</td>\n",
       "      <td>0.3</td>\n",
       "      <td>13.30</td>\n",
       "      <td>0.0</td>\n",
       "      <td>0.0</td>\n",
       "    </tr>\n",
       "    <tr>\n",
       "      <th>2</th>\n",
       "      <td>2</td>\n",
       "      <td>2022-01-01 00:53:21</td>\n",
       "      <td>2022-01-01 01:02:19</td>\n",
       "      <td>1.0</td>\n",
       "      <td>0.97</td>\n",
       "      <td>1.0</td>\n",
       "      <td>N</td>\n",
       "      <td>166</td>\n",
       "      <td>166</td>\n",
       "      <td>1</td>\n",
       "      <td>7.50</td>\n",
       "      <td>0.5</td>\n",
       "      <td>0.5</td>\n",
       "      <td>1.76</td>\n",
       "      <td>0.0</td>\n",
       "      <td>0.3</td>\n",
       "      <td>10.56</td>\n",
       "      <td>0.0</td>\n",
       "      <td>0.0</td>\n",
       "    </tr>\n",
       "    <tr>\n",
       "      <th>3</th>\n",
       "      <td>2</td>\n",
       "      <td>2022-01-01 00:25:21</td>\n",
       "      <td>2022-01-01 00:35:23</td>\n",
       "      <td>1.0</td>\n",
       "      <td>1.09</td>\n",
       "      <td>1.0</td>\n",
       "      <td>N</td>\n",
       "      <td>114</td>\n",
       "      <td>68</td>\n",
       "      <td>2</td>\n",
       "      <td>8.00</td>\n",
       "      <td>0.5</td>\n",
       "      <td>0.5</td>\n",
       "      <td>0.00</td>\n",
       "      <td>0.0</td>\n",
       "      <td>0.3</td>\n",
       "      <td>11.80</td>\n",
       "      <td>2.5</td>\n",
       "      <td>0.0</td>\n",
       "    </tr>\n",
       "    <tr>\n",
       "      <th>4</th>\n",
       "      <td>2</td>\n",
       "      <td>2022-01-01 00:36:48</td>\n",
       "      <td>2022-01-01 01:14:20</td>\n",
       "      <td>1.0</td>\n",
       "      <td>4.30</td>\n",
       "      <td>1.0</td>\n",
       "      <td>N</td>\n",
       "      <td>68</td>\n",
       "      <td>163</td>\n",
       "      <td>1</td>\n",
       "      <td>23.50</td>\n",
       "      <td>0.5</td>\n",
       "      <td>0.5</td>\n",
       "      <td>3.00</td>\n",
       "      <td>0.0</td>\n",
       "      <td>0.3</td>\n",
       "      <td>30.30</td>\n",
       "      <td>2.5</td>\n",
       "      <td>0.0</td>\n",
       "    </tr>\n",
       "    <tr>\n",
       "      <th>...</th>\n",
       "      <td>...</td>\n",
       "      <td>...</td>\n",
       "      <td>...</td>\n",
       "      <td>...</td>\n",
       "      <td>...</td>\n",
       "      <td>...</td>\n",
       "      <td>...</td>\n",
       "      <td>...</td>\n",
       "      <td>...</td>\n",
       "      <td>...</td>\n",
       "      <td>...</td>\n",
       "      <td>...</td>\n",
       "      <td>...</td>\n",
       "      <td>...</td>\n",
       "      <td>...</td>\n",
       "      <td>...</td>\n",
       "      <td>...</td>\n",
       "      <td>...</td>\n",
       "      <td>...</td>\n",
       "    </tr>\n",
       "    <tr>\n",
       "      <th>2463926</th>\n",
       "      <td>2</td>\n",
       "      <td>2022-01-31 23:36:53</td>\n",
       "      <td>2022-01-31 23:42:51</td>\n",
       "      <td>NaN</td>\n",
       "      <td>1.32</td>\n",
       "      <td>NaN</td>\n",
       "      <td>None</td>\n",
       "      <td>90</td>\n",
       "      <td>170</td>\n",
       "      <td>0</td>\n",
       "      <td>8.00</td>\n",
       "      <td>0.0</td>\n",
       "      <td>0.5</td>\n",
       "      <td>2.39</td>\n",
       "      <td>0.0</td>\n",
       "      <td>0.3</td>\n",
       "      <td>13.69</td>\n",
       "      <td>NaN</td>\n",
       "      <td>NaN</td>\n",
       "    </tr>\n",
       "    <tr>\n",
       "      <th>2463927</th>\n",
       "      <td>2</td>\n",
       "      <td>2022-01-31 23:44:22</td>\n",
       "      <td>2022-01-31 23:55:01</td>\n",
       "      <td>NaN</td>\n",
       "      <td>4.19</td>\n",
       "      <td>NaN</td>\n",
       "      <td>None</td>\n",
       "      <td>107</td>\n",
       "      <td>75</td>\n",
       "      <td>0</td>\n",
       "      <td>16.80</td>\n",
       "      <td>0.0</td>\n",
       "      <td>0.5</td>\n",
       "      <td>4.35</td>\n",
       "      <td>0.0</td>\n",
       "      <td>0.3</td>\n",
       "      <td>24.45</td>\n",
       "      <td>NaN</td>\n",
       "      <td>NaN</td>\n",
       "    </tr>\n",
       "    <tr>\n",
       "      <th>2463928</th>\n",
       "      <td>2</td>\n",
       "      <td>2022-01-31 23:39:00</td>\n",
       "      <td>2022-01-31 23:50:00</td>\n",
       "      <td>NaN</td>\n",
       "      <td>2.10</td>\n",
       "      <td>NaN</td>\n",
       "      <td>None</td>\n",
       "      <td>113</td>\n",
       "      <td>246</td>\n",
       "      <td>0</td>\n",
       "      <td>11.22</td>\n",
       "      <td>0.0</td>\n",
       "      <td>0.5</td>\n",
       "      <td>2.00</td>\n",
       "      <td>0.0</td>\n",
       "      <td>0.3</td>\n",
       "      <td>16.52</td>\n",
       "      <td>NaN</td>\n",
       "      <td>NaN</td>\n",
       "    </tr>\n",
       "    <tr>\n",
       "      <th>2463929</th>\n",
       "      <td>2</td>\n",
       "      <td>2022-01-31 23:36:42</td>\n",
       "      <td>2022-01-31 23:48:45</td>\n",
       "      <td>NaN</td>\n",
       "      <td>2.92</td>\n",
       "      <td>NaN</td>\n",
       "      <td>None</td>\n",
       "      <td>148</td>\n",
       "      <td>164</td>\n",
       "      <td>0</td>\n",
       "      <td>12.40</td>\n",
       "      <td>0.0</td>\n",
       "      <td>0.5</td>\n",
       "      <td>0.00</td>\n",
       "      <td>0.0</td>\n",
       "      <td>0.3</td>\n",
       "      <td>15.70</td>\n",
       "      <td>NaN</td>\n",
       "      <td>NaN</td>\n",
       "    </tr>\n",
       "    <tr>\n",
       "      <th>2463930</th>\n",
       "      <td>2</td>\n",
       "      <td>2022-01-31 23:46:00</td>\n",
       "      <td>2022-02-01 00:13:00</td>\n",
       "      <td>NaN</td>\n",
       "      <td>8.94</td>\n",
       "      <td>NaN</td>\n",
       "      <td>None</td>\n",
       "      <td>186</td>\n",
       "      <td>181</td>\n",
       "      <td>0</td>\n",
       "      <td>25.48</td>\n",
       "      <td>0.0</td>\n",
       "      <td>0.5</td>\n",
       "      <td>6.28</td>\n",
       "      <td>0.0</td>\n",
       "      <td>0.3</td>\n",
       "      <td>35.06</td>\n",
       "      <td>NaN</td>\n",
       "      <td>NaN</td>\n",
       "    </tr>\n",
       "  </tbody>\n",
       "</table>\n",
       "<p>2463931 rows × 19 columns</p>\n",
       "</div>"
      ],
      "text/plain": [
       "         VendorID tpep_pickup_datetime tpep_dropoff_datetime  passenger_count  \\\n",
       "0               1  2022-01-01 00:35:40   2022-01-01 00:53:29              2.0   \n",
       "1               1  2022-01-01 00:33:43   2022-01-01 00:42:07              1.0   \n",
       "2               2  2022-01-01 00:53:21   2022-01-01 01:02:19              1.0   \n",
       "3               2  2022-01-01 00:25:21   2022-01-01 00:35:23              1.0   \n",
       "4               2  2022-01-01 00:36:48   2022-01-01 01:14:20              1.0   \n",
       "...           ...                  ...                   ...              ...   \n",
       "2463926         2  2022-01-31 23:36:53   2022-01-31 23:42:51              NaN   \n",
       "2463927         2  2022-01-31 23:44:22   2022-01-31 23:55:01              NaN   \n",
       "2463928         2  2022-01-31 23:39:00   2022-01-31 23:50:00              NaN   \n",
       "2463929         2  2022-01-31 23:36:42   2022-01-31 23:48:45              NaN   \n",
       "2463930         2  2022-01-31 23:46:00   2022-02-01 00:13:00              NaN   \n",
       "\n",
       "         trip_distance  RatecodeID store_and_fwd_flag  PULocationID  \\\n",
       "0                 3.80         1.0                  N           142   \n",
       "1                 2.10         1.0                  N           236   \n",
       "2                 0.97         1.0                  N           166   \n",
       "3                 1.09         1.0                  N           114   \n",
       "4                 4.30         1.0                  N            68   \n",
       "...                ...         ...                ...           ...   \n",
       "2463926           1.32         NaN               None            90   \n",
       "2463927           4.19         NaN               None           107   \n",
       "2463928           2.10         NaN               None           113   \n",
       "2463929           2.92         NaN               None           148   \n",
       "2463930           8.94         NaN               None           186   \n",
       "\n",
       "         DOLocationID  payment_type  fare_amount  extra  mta_tax  tip_amount  \\\n",
       "0                 236             1        14.50    3.0      0.5        3.65   \n",
       "1                  42             1         8.00    0.5      0.5        4.00   \n",
       "2                 166             1         7.50    0.5      0.5        1.76   \n",
       "3                  68             2         8.00    0.5      0.5        0.00   \n",
       "4                 163             1        23.50    0.5      0.5        3.00   \n",
       "...               ...           ...          ...    ...      ...         ...   \n",
       "2463926           170             0         8.00    0.0      0.5        2.39   \n",
       "2463927            75             0        16.80    0.0      0.5        4.35   \n",
       "2463928           246             0        11.22    0.0      0.5        2.00   \n",
       "2463929           164             0        12.40    0.0      0.5        0.00   \n",
       "2463930           181             0        25.48    0.0      0.5        6.28   \n",
       "\n",
       "         tolls_amount  improvement_surcharge  total_amount  \\\n",
       "0                 0.0                    0.3         21.95   \n",
       "1                 0.0                    0.3         13.30   \n",
       "2                 0.0                    0.3         10.56   \n",
       "3                 0.0                    0.3         11.80   \n",
       "4                 0.0                    0.3         30.30   \n",
       "...               ...                    ...           ...   \n",
       "2463926           0.0                    0.3         13.69   \n",
       "2463927           0.0                    0.3         24.45   \n",
       "2463928           0.0                    0.3         16.52   \n",
       "2463929           0.0                    0.3         15.70   \n",
       "2463930           0.0                    0.3         35.06   \n",
       "\n",
       "         congestion_surcharge  airport_fee  \n",
       "0                         2.5          0.0  \n",
       "1                         0.0          0.0  \n",
       "2                         0.0          0.0  \n",
       "3                         2.5          0.0  \n",
       "4                         2.5          0.0  \n",
       "...                       ...          ...  \n",
       "2463926                   NaN          NaN  \n",
       "2463927                   NaN          NaN  \n",
       "2463928                   NaN          NaN  \n",
       "2463929                   NaN          NaN  \n",
       "2463930                   NaN          NaN  \n",
       "\n",
       "[2463931 rows x 19 columns]"
      ]
     },
     "execution_count": 4,
     "metadata": {},
     "output_type": "execute_result"
    }
   ],
   "source": [
    "df"
   ]
  },
  {
   "cell_type": "code",
   "execution_count": 5,
   "id": "02e8eb64",
   "metadata": {},
   "outputs": [
    {
     "data": {
      "text/plain": [
       "19"
      ]
     },
     "execution_count": 5,
     "metadata": {},
     "output_type": "execute_result"
    }
   ],
   "source": [
    "# QUESTION 1 - HOW MANY COLUMNS IN DF?\n",
    "column_number = df.shape[1]\n",
    "total_row_original = df.shape[0]\n",
    "column_number"
   ]
  },
  {
   "cell_type": "code",
   "execution_count": 6,
   "id": "a5139845",
   "metadata": {},
   "outputs": [
    {
     "data": {
      "text/plain": [
       "VendorID                          int64\n",
       "tpep_pickup_datetime     datetime64[ns]\n",
       "tpep_dropoff_datetime    datetime64[ns]\n",
       "passenger_count                 float64\n",
       "trip_distance                   float64\n",
       "RatecodeID                      float64\n",
       "store_and_fwd_flag               object\n",
       "PULocationID                      int64\n",
       "DOLocationID                      int64\n",
       "payment_type                      int64\n",
       "fare_amount                     float64\n",
       "extra                           float64\n",
       "mta_tax                         float64\n",
       "tip_amount                      float64\n",
       "tolls_amount                    float64\n",
       "improvement_surcharge           float64\n",
       "total_amount                    float64\n",
       "congestion_surcharge            float64\n",
       "airport_fee                     float64\n",
       "dtype: object"
      ]
     },
     "execution_count": 6,
     "metadata": {},
     "output_type": "execute_result"
    }
   ],
   "source": [
    "df.dtypes"
   ]
  },
  {
   "cell_type": "markdown",
   "id": "9728b7ed",
   "metadata": {},
   "source": [
    "### Calculating Duration"
   ]
  },
  {
   "cell_type": "code",
   "execution_count": 7,
   "id": "909103c4",
   "metadata": {},
   "outputs": [],
   "source": [
    "# Duration calculation in minutes\n",
    "df['duration'] = (df.tpep_dropoff_datetime - df.tpep_pickup_datetime)/np.timedelta64(1,'m')\n",
    "df_val['duration'] = (df_val.tpep_dropoff_datetime - df_val.tpep_pickup_datetime)/np.timedelta64(1,'m')"
   ]
  },
  {
   "cell_type": "code",
   "execution_count": 8,
   "id": "e0c91b93",
   "metadata": {},
   "outputs": [
    {
     "data": {
      "text/plain": [
       "count    2.463931e+06\n",
       "mean     1.421220e+01\n",
       "std      4.644531e+01\n",
       "min     -3.442400e+03\n",
       "25%      6.316667e+00\n",
       "50%      1.018333e+01\n",
       "75%      1.616667e+01\n",
       "max      8.513183e+03\n",
       "Name: duration, dtype: float64"
      ]
     },
     "execution_count": 8,
     "metadata": {},
     "output_type": "execute_result"
    }
   ],
   "source": [
    "# QUESTION 2 - STD OF Duration in January\n",
    "df.duration.describe()"
   ]
  },
  {
   "cell_type": "code",
   "execution_count": 9,
   "id": "4999a07c",
   "metadata": {},
   "outputs": [],
   "source": [
    "import seaborn as sns\n",
    "import matplotlib.pyplot as plt"
   ]
  },
  {
   "cell_type": "code",
   "execution_count": 10,
   "id": "c0791bd2",
   "metadata": {},
   "outputs": [
    {
     "name": "stderr",
     "output_type": "stream",
     "text": [
      "/tmp/ipykernel_6893/3426635498.py:1: UserWarning: \n",
      "\n",
      "`distplot` is a deprecated function and will be removed in seaborn v0.14.0.\n",
      "\n",
      "Please adapt your code to use either `displot` (a figure-level function with\n",
      "similar flexibility) or `histplot` (an axes-level function for histograms).\n",
      "\n",
      "For a guide to updating your code to use the new functions, please see\n",
      "https://gist.github.com/mwaskom/de44147ed2974457ad6372750bbe5751\n",
      "\n",
      "  sns.distplot(df.duration)\n"
     ]
    },
    {
     "data": {
      "text/plain": [
       "<Axes: xlabel='duration', ylabel='Density'>"
      ]
     },
     "execution_count": 10,
     "metadata": {},
     "output_type": "execute_result"
    },
    {
     "data": {
      "image/png": "[encoded data removed]",
      "text/plain": [
       "<Figure size 640x480 with 1 Axes>"
      ]
     },
     "metadata": {},
     "output_type": "display_data"
    }
   ],
   "source": [
    "sns.distplot(df.duration)"
   ]
  },
  {
   "cell_type": "code",
   "execution_count": 11,
   "id": "3cc78a51",
   "metadata": {},
   "outputs": [],
   "source": [
    "# Duration cannot be negative or zero\n",
    "df = df[df['tpep_dropoff_datetime'] > df['tpep_pickup_datetime']]"
   ]
  },
  {
   "cell_type": "code",
   "execution_count": 12,
   "id": "3a6ccb95",
   "metadata": {},
   "outputs": [
    {
     "name": "stderr",
     "output_type": "stream",
     "text": [
      "/tmp/ipykernel_6893/3164066024.py:1: UserWarning: \n",
      "\n",
      "`distplot` is a deprecated function and will be removed in seaborn v0.14.0.\n",
      "\n",
      "Please adapt your code to use either `displot` (a figure-level function with\n",
      "similar flexibility) or `histplot` (an axes-level function for histograms).\n",
      "\n",
      "For a guide to updating your code to use the new functions, please see\n",
      "https://gist.github.com/mwaskom/de44147ed2974457ad6372750bbe5751\n",
      "\n",
      "  sns.distplot(df.duration.sample(10000))\n"
     ]
    },
    {
     "data": {
      "image/png": "[encoded data removed]",
      "text/plain": [
       "<Figure size 640x480 with 1 Axes>"
      ]
     },
     "metadata": {},
     "output_type": "display_data"
    }
   ],
   "source": [
    "sns.distplot(df.duration.sample(10000))\n",
    "plt.xlim(0,350)\n",
    "plt.show()"
   ]
  },
  {
   "cell_type": "code",
   "execution_count": 13,
   "id": "800dbc0a",
   "metadata": {},
   "outputs": [
    {
     "data": {
      "text/plain": [
       "count    2.461482e+06\n",
       "mean     1.422798e+01\n",
       "std      4.641384e+01\n",
       "min      1.666667e-02\n",
       "1%       7.666667e-01\n",
       "5%       2.983333e+00\n",
       "10%      4.033333e+00\n",
       "50%      1.018333e+01\n",
       "90%      2.465000e+01\n",
       "95%      3.195000e+01\n",
       "99%      5.085000e+01\n",
       "max      8.513183e+03\n",
       "Name: duration, dtype: float64"
      ]
     },
     "execution_count": 13,
     "metadata": {},
     "output_type": "execute_result"
    }
   ],
   "source": [
    "df.duration.describe(percentiles = [0.01, 0.05, 0.10, 0.9, 0.95, 0.99 ])"
   ]
  },
  {
   "cell_type": "code",
   "execution_count": 14,
   "id": "225094fb",
   "metadata": {},
   "outputs": [
    {
     "data": {
      "text/plain": [
       "98.27547930522405"
      ]
     },
     "execution_count": 14,
     "metadata": {},
     "output_type": "execute_result"
    }
   ],
   "source": [
    "# QUESTION 3 - FRACTION OF DURATIONS BETWEEN 1 AND 60 MINUTES\n",
    "(df[(df.duration>=1) & (df.duration<=60)].shape[0] / total_row_original)* 100"
   ]
  },
  {
   "cell_type": "markdown",
   "id": "a16a7197",
   "metadata": {},
   "source": [
    "### Dropping outliers"
   ]
  },
  {
   "cell_type": "code",
   "execution_count": 15,
   "id": "16ba01a7",
   "metadata": {},
   "outputs": [
    {
     "name": "stderr",
     "output_type": "stream",
     "text": [
      "/tmp/ipykernel_6893/639906156.py:3: UserWarning: Boolean Series key will be reindexed to match DataFrame index.\n",
      "  df_val = df[(df_val.duration>=1) & (df_val.duration<=60)].copy()\n"
     ]
    }
   ],
   "source": [
    "df = df[(df.duration>=1) & (df.duration<=60)].copy()\n",
    "df_val = df[(df_val.duration>=1) & (df_val.duration<=60)].copy()"
   ]
  },
  {
   "cell_type": "markdown",
   "id": "00153c1d",
   "metadata": {},
   "source": [
    "### ONE HOT ENCODING"
   ]
  },
  {
   "cell_type": "code",
   "execution_count": 16,
   "id": "bb41f733",
   "metadata": {},
   "outputs": [],
   "source": [
    "from sklearn.feature_extraction import DictVectorizer"
   ]
  },
  {
   "cell_type": "code",
   "execution_count": 17,
   "id": "79670b1e",
   "metadata": {},
   "outputs": [],
   "source": [
    "categorical_features = ['PULocationID', 'DOLocationID']\n",
    "df[categorical_features] = df[categorical_features].astype(str)\n",
    "train_dict = df[categorical_features].to_dict(orient='records')\n",
    "\n",
    "df_val[categorical_features] = df_val[categorical_features].astype(str)\n",
    "val_dict = df_val[categorical_features].to_dict(orient='records')\n",
    "\n"
   ]
  },
  {
   "cell_type": "code",
   "execution_count": 18,
   "id": "32b222ee",
   "metadata": {},
   "outputs": [
    {
     "data": {
      "text/plain": [
       "(2421440, 515)"
      ]
     },
     "execution_count": 18,
     "metadata": {},
     "output_type": "execute_result"
    }
   ],
   "source": [
    "# QUESTION 4 - What is the dimensionality of this one hot encoded matrix?\n",
    "dv = DictVectorizer()\n",
    "X_train = dv.fit_transform(train_dict)\n",
    "X_val = dv.transform(val_dict)\n",
    "\n",
    "X_train.shape"
   ]
  },
  {
   "cell_type": "code",
   "execution_count": 19,
   "id": "a2601a9e",
   "metadata": {},
   "outputs": [],
   "source": [
    "y_train = df['duration']\n",
    "y_val = df_val['duration']"
   ]
  },
  {
   "cell_type": "markdown",
   "id": "83e4da69",
   "metadata": {},
   "source": [
    "### Training"
   ]
  },
  {
   "cell_type": "code",
   "execution_count": 20,
   "id": "5c39ea63",
   "metadata": {},
   "outputs": [
    {
     "name": "stdout",
     "output_type": "stream",
     "text": [
      "Requirement already satisfied: numpy in /home/siar/anaconda3/lib/python3.11/site-packages (1.24.3)\n",
      "Requirement already satisfied: scikit-learn in /home/siar/anaconda3/lib/python3.11/site-packages (1.2.2)\n",
      "Requirement already satisfied: xgboost in /home/siar/anaconda3/lib/python3.11/site-packages (1.7.6)\n",
      "Requirement already satisfied: scipy>=1.3.2 in /home/siar/anaconda3/lib/python3.11/site-packages (from scikit-learn) (1.10.1)\n",
      "Requirement already satisfied: joblib>=1.1.1 in /home/siar/anaconda3/lib/python3.11/site-packages (from scikit-learn) (1.2.0)\n",
      "Requirement already satisfied: threadpoolctl>=2.0.0 in /home/siar/anaconda3/lib/python3.11/site-packages (from scikit-learn) (2.2.0)\n",
      "Note: you may need to restart the kernel to use updated packages.\n"
     ]
    }
   ],
   "source": [
    "pip install numpy scikit-learn xgboost"
   ]
  },
  {
   "cell_type": "code",
   "execution_count": 21,
   "id": "086da49e",
   "metadata": {},
   "outputs": [],
   "source": [
    "import time\n",
    "from sklearn.linear_model import LinearRegression, Lasso, Ridge\n",
    "from sklearn.metrics import mean_squared_error\n",
    "from xgboost import XGBRegressor"
   ]
  },
  {
   "cell_type": "code",
   "execution_count": 22,
   "id": "4d2a012c",
   "metadata": {},
   "outputs": [
    {
     "name": "stdout",
     "output_type": "stream",
     "text": [
      "Linear Regression - Training Time: 17.5332s, Train RMSE: 6.9862, Val RMSE: 6.9857\n",
      "Lasso Regression - Training Time: 7.9907s, Train RMSE: 7.9368, Val RMSE: 7.9364\n",
      "Ridge Regression - Training Time: 7.8329s, Train RMSE: 6.9862, Val RMSE: 6.9858\n",
      "XGBoost Regression - Training Time: 29.1545s, Train RMSE: 6.4080, Val RMSE: 6.4076\n"
     ]
    }
   ],
   "source": [
    "# Question 5 -6 : Validation and Training RMSE of Linear Regression Model\n",
    "# Linear Regression\n",
    "start_time = time.time()\n",
    "lin_reg = LinearRegression()\n",
    "lin_reg.fit(X_train, y_train)\n",
    "lin_reg_time = time.time() - start_time\n",
    "lin_reg_train_pred = lin_reg.predict(X_train)\n",
    "lin_reg_val_pred = lin_reg.predict(X_val)\n",
    "lin_reg_train_rmse = np.sqrt(mean_squared_error(y_train, lin_reg_train_pred))\n",
    "lin_reg_val_rmse = np.sqrt(mean_squared_error(y_val, lin_reg_val_pred))\n",
    "print(f\"Linear Regression - Training Time: {lin_reg_time:.4f}s, Train RMSE: {lin_reg_train_rmse:.4f}, Val RMSE: {lin_reg_val_rmse:.4f}\")\n",
    "\n",
    "# Lasso Regression\n",
    "start_time = time.time()\n",
    "lasso_reg = Lasso(alpha=0.1) \n",
    "lasso_reg.fit(X_train, y_train)\n",
    "lasso_reg_time = time.time() - start_time\n",
    "lasso_reg_train_pred = lasso_reg.predict(X_train)\n",
    "lasso_reg_val_pred = lasso_reg.predict(X_val)\n",
    "lasso_reg_train_rmse = np.sqrt(mean_squared_error(y_train, lasso_reg_train_pred))\n",
    "lasso_reg_val_rmse = np.sqrt(mean_squared_error(y_val, lasso_reg_val_pred))\n",
    "print(f\"Lasso Regression - Training Time: {lasso_reg_time:.4f}s, Train RMSE: {lasso_reg_train_rmse:.4f}, Val RMSE: {lasso_reg_val_rmse:.4f}\")\n",
    "\n",
    "# Ridge Regression\n",
    "start_time = time.time()\n",
    "ridge_reg = Ridge(alpha=0.1)  \n",
    "ridge_reg.fit(X_train, y_train)\n",
    "ridge_reg_time = time.time() - start_time\n",
    "ridge_reg_train_pred = ridge_reg.predict(X_train)\n",
    "ridge_reg_val_pred = ridge_reg.predict(X_val)\n",
    "ridge_reg_train_rmse = np.sqrt(mean_squared_error(y_train, ridge_reg_train_pred))\n",
    "ridge_reg_val_rmse = np.sqrt(mean_squared_error(y_val, ridge_reg_val_pred))\n",
    "print(f\"Ridge Regression - Training Time: {ridge_reg_time:.4f}s, Train RMSE: {ridge_reg_train_rmse:.4f}, Val RMSE: {ridge_reg_val_rmse:.4f}\")\n",
    "\n",
    "# XGBoost Regression\n",
    "start_time = time.time()\n",
    "xgb_reg = XGBRegressor()\n",
    "xgb_reg.fit(X_train, y_train)\n",
    "xgb_reg_time = time.time() - start_time\n",
    "xgb_reg_train_pred = xgb_reg.predict(X_train)\n",
    "xgb_reg_val_pred = xgb_reg.predict(X_val)\n",
    "xgb_reg_train_rmse = np.sqrt(mean_squared_error(y_train, xgb_reg_train_pred))\n",
    "xgb_reg_val_rmse = np.sqrt(mean_squared_error(y_val, xgb_reg_val_pred))\n",
    "print(f\"XGBoost Regression - Training Time: {xgb_reg_time:.4f}s, Train RMSE: {xgb_reg_train_rmse:.4f}, Val RMSE: {xgb_reg_val_rmse:.4f}\")"
   ]
  },
  {
   "cell_type": "code",
   "execution_count": 23,
   "id": "9ad268a8",
   "metadata": {},
   "outputs": [
    {
     "name": "stdout",
     "output_type": "stream",
     "text": [
      "Lasso Regression - Training Time: 34.2595s, Train RMSE: 7.3303, Val RMSE: 7.3303\n",
      "Ridge Regression - Training Time: 7.6710s, Train RMSE: 6.9862, Val RMSE: 6.9858\n",
      "Lasso Regression - Training Time: 298.6699s, Train RMSE: 7.0564, Val RMSE: 7.0561\n",
      "Ridge Regression - Training Time: 8.0191s, Train RMSE: 6.9862, Val RMSE: 6.9858\n"
     ]
    }
   ],
   "source": [
    "# Lasso Regression\n",
    "start_time = time.time()\n",
    "lasso_reg = Lasso(alpha=0.01) \n",
    "lasso_reg.fit(X_train, y_train)\n",
    "lasso_reg_time = time.time() - start_time\n",
    "lasso_reg_train_pred = lasso_reg.predict(X_train)\n",
    "lasso_reg_val_pred = lasso_reg.predict(X_val)\n",
    "lasso_reg_train_rmse = np.sqrt(mean_squared_error(y_train, lasso_reg_train_pred))\n",
    "lasso_reg_val_rmse = np.sqrt(mean_squared_error(y_val, lasso_reg_val_pred))\n",
    "print(f\"Lasso Regression - Training Time: {lasso_reg_time:.4f}s, Train RMSE: {lasso_reg_train_rmse:.4f}, Val RMSE: {lasso_reg_val_rmse:.4f}\")\n",
    "\n",
    "# Ridge Regression\n",
    "start_time = time.time()\n",
    "ridge_reg = Ridge(alpha=0.01)  \n",
    "ridge_reg.fit(X_train, y_train)\n",
    "ridge_reg_time = time.time() - start_time\n",
    "ridge_reg_train_pred = ridge_reg.predict(X_train)\n",
    "ridge_reg_val_pred = ridge_reg.predict(X_val)\n",
    "ridge_reg_train_rmse = np.sqrt(mean_squared_error(y_train, ridge_reg_train_pred))\n",
    "ridge_reg_val_rmse = np.sqrt(mean_squared_error(y_val, ridge_reg_val_pred))\n",
    "print(f\"Ridge Regression - Training Time: {ridge_reg_time:.4f}s, Train RMSE: {ridge_reg_train_rmse:.4f}, Val RMSE: {ridge_reg_val_rmse:.4f}\")\n",
    "\n",
    "# Lasso Regression\n",
    "start_time = time.time()\n",
    "lasso_reg = Lasso(alpha=0.001) \n",
    "lasso_reg.fit(X_train, y_train)\n",
    "lasso_reg_time = time.time() - start_time\n",
    "lasso_reg_train_pred = lasso_reg.predict(X_train)\n",
    "lasso_reg_val_pred = lasso_reg.predict(X_val)\n",
    "lasso_reg_train_rmse = np.sqrt(mean_squared_error(y_train, lasso_reg_train_pred))\n",
    "lasso_reg_val_rmse = np.sqrt(mean_squared_error(y_val, lasso_reg_val_pred))\n",
    "print(f\"Lasso Regression - Training Time: {lasso_reg_time:.4f}s, Train RMSE: {lasso_reg_train_rmse:.4f}, Val RMSE: {lasso_reg_val_rmse:.4f}\")\n",
    "\n",
    "# Ridge Regression\n",
    "start_time = time.time()\n",
    "ridge_reg = Ridge(alpha=0.001)  \n",
    "ridge_reg.fit(X_train, y_train)\n",
    "ridge_reg_time = time.time() - start_time\n",
    "ridge_reg_train_pred = ridge_reg.predict(X_train)\n",
    "ridge_reg_val_pred = ridge_reg.predict(X_val)\n",
    "ridge_reg_train_rmse = np.sqrt(mean_squared_error(y_train, ridge_reg_train_pred))\n",
    "ridge_reg_val_rmse = np.sqrt(mean_squared_error(y_val, ridge_reg_val_pred))\n",
    "print(f\"Ridge Regression - Training Time: {ridge_reg_time:.4f}s, Train RMSE: {ridge_reg_train_rmse:.4f}, Val RMSE: {ridge_reg_val_rmse:.4f}\")\n",
    "\n"
   ]
  },
  {
   "cell_type": "code",
   "execution_count": null,
   "id": "3cc6ef10",
   "metadata": {},
   "outputs": [],
   "source": []
  }
 ],
 "metadata": {
  "kernelspec": {
   "display_name": "Python 3 (ipykernel)",
   "language": "python",
   "name": "python3"
  },
  "language_info": {
   "codemirror_mode": {
    "name": "ipython",
    "version": 3
   },
   "file_extension": ".py",
   "mimetype": "text/x-python",
   "name": "python",
   "nbconvert_exporter": "python",
   "pygments_lexer": "ipython3",
   "version": "3.11.3"
  }
 },
 "nbformat": 4,
 "nbformat_minor": 5
}
